{
 "cells": [
  {
   "cell_type": "code",
   "execution_count": 1,
   "id": "65eaa03a-278b-4b7e-9bd1-d6d1f0f415cb",
   "metadata": {},
   "outputs": [
    {
     "data": {
      "text/plain": [
       "'C:\\\\Users\\\\hp\\\\Code\\\\GitHub\\\\GenAI_Confluence_search'"
      ]
     },
     "execution_count": 1,
     "metadata": {},
     "output_type": "execute_result"
    }
   ],
   "source": [
    "%pwd"
   ]
  },
  {
   "cell_type": "code",
   "execution_count": 7,
   "id": "1a2a19b0-cddc-41b6-9098-941e48f8e83d",
   "metadata": {},
   "outputs": [
    {
     "name": "stdout",
     "output_type": "stream",
     "text": [
      "Requirement already satisfied: streamlit in e:\\users\\hp\\anaconda3\\envs\\genaienv\\lib\\site-packages (from -r requirements.txt (line 2)) (1.47.1)\n",
      "Requirement already satisfied: langchain in e:\\users\\hp\\anaconda3\\envs\\genaienv\\lib\\site-packages (from -r requirements.txt (line 5)) (0.3.27)\n",
      "Requirement already satisfied: transformers in e:\\users\\hp\\anaconda3\\envs\\genaienv\\lib\\site-packages (from -r requirements.txt (line 6)) (4.54.1)\n",
      "Requirement already satisfied: sentence-transformers in e:\\users\\hp\\anaconda3\\envs\\genaienv\\lib\\site-packages (from -r requirements.txt (line 7)) (5.0.0)\n",
      "Requirement already satisfied: faiss-cpu in e:\\users\\hp\\anaconda3\\envs\\genaienv\\lib\\site-packages (from -r requirements.txt (line 8)) (1.11.0.post1)\n",
      "Requirement already satisfied: torch in e:\\users\\hp\\anaconda3\\envs\\genaienv\\lib\\site-packages (from -r requirements.txt (line 9)) (2.7.1)\n",
      "Requirement already satisfied: beautifulsoup4 in e:\\users\\hp\\anaconda3\\envs\\genaienv\\lib\\site-packages (from -r requirements.txt (line 12)) (4.13.4)\n",
      "Requirement already satisfied: requests in e:\\users\\hp\\anaconda3\\envs\\genaienv\\lib\\site-packages (from -r requirements.txt (line 13)) (2.32.4)\n",
      "Requirement already satisfied: python-dotenv in e:\\users\\hp\\anaconda3\\envs\\genaienv\\lib\\site-packages (from -r requirements.txt (line 16)) (1.1.1)\n",
      "Requirement already satisfied: altair<6,>=4.0 in e:\\users\\hp\\anaconda3\\envs\\genaienv\\lib\\site-packages (from streamlit->-r requirements.txt (line 2)) (5.5.0)\n",
      "Requirement already satisfied: blinker<2,>=1.5.0 in e:\\users\\hp\\anaconda3\\envs\\genaienv\\lib\\site-packages (from streamlit->-r requirements.txt (line 2)) (1.9.0)\n",
      "Requirement already satisfied: cachetools<7,>=4.0 in e:\\users\\hp\\anaconda3\\envs\\genaienv\\lib\\site-packages (from streamlit->-r requirements.txt (line 2)) (6.1.0)\n",
      "Requirement already satisfied: click<9,>=7.0 in e:\\users\\hp\\anaconda3\\envs\\genaienv\\lib\\site-packages (from streamlit->-r requirements.txt (line 2)) (8.2.1)\n",
      "Requirement already satisfied: numpy<3,>=1.23 in e:\\users\\hp\\anaconda3\\envs\\genaienv\\lib\\site-packages (from streamlit->-r requirements.txt (line 2)) (2.3.2)\n",
      "Requirement already satisfied: packaging<26,>=20 in e:\\users\\hp\\anaconda3\\envs\\genaienv\\lib\\site-packages (from streamlit->-r requirements.txt (line 2)) (25.0)\n",
      "Requirement already satisfied: pandas<3,>=1.4.0 in e:\\users\\hp\\anaconda3\\envs\\genaienv\\lib\\site-packages (from streamlit->-r requirements.txt (line 2)) (2.3.1)\n",
      "Requirement already satisfied: pillow<12,>=7.1.0 in e:\\users\\hp\\anaconda3\\envs\\genaienv\\lib\\site-packages (from streamlit->-r requirements.txt (line 2)) (11.3.0)\n",
      "Requirement already satisfied: protobuf<7,>=3.20 in e:\\users\\hp\\anaconda3\\envs\\genaienv\\lib\\site-packages (from streamlit->-r requirements.txt (line 2)) (6.31.1)\n",
      "Requirement already satisfied: pyarrow>=7.0 in e:\\users\\hp\\anaconda3\\envs\\genaienv\\lib\\site-packages (from streamlit->-r requirements.txt (line 2)) (21.0.0)\n",
      "Requirement already satisfied: tenacity<10,>=8.1.0 in e:\\users\\hp\\anaconda3\\envs\\genaienv\\lib\\site-packages (from streamlit->-r requirements.txt (line 2)) (9.1.2)\n",
      "Requirement already satisfied: toml<2,>=0.10.1 in e:\\users\\hp\\anaconda3\\envs\\genaienv\\lib\\site-packages (from streamlit->-r requirements.txt (line 2)) (0.10.2)\n",
      "Requirement already satisfied: typing-extensions<5,>=4.4.0 in e:\\users\\hp\\anaconda3\\envs\\genaienv\\lib\\site-packages (from streamlit->-r requirements.txt (line 2)) (4.12.2)\n",
      "Requirement already satisfied: watchdog<7,>=2.1.5 in e:\\users\\hp\\anaconda3\\envs\\genaienv\\lib\\site-packages (from streamlit->-r requirements.txt (line 2)) (6.0.0)\n",
      "Requirement already satisfied: gitpython!=3.1.19,<4,>=3.0.7 in e:\\users\\hp\\anaconda3\\envs\\genaienv\\lib\\site-packages (from streamlit->-r requirements.txt (line 2)) (3.1.45)\n",
      "Requirement already satisfied: pydeck<1,>=0.8.0b4 in e:\\users\\hp\\anaconda3\\envs\\genaienv\\lib\\site-packages (from streamlit->-r requirements.txt (line 2)) (0.9.1)\n",
      "Requirement already satisfied: tornado!=6.5.0,<7,>=6.0.3 in e:\\users\\hp\\anaconda3\\envs\\genaienv\\lib\\site-packages (from streamlit->-r requirements.txt (line 2)) (6.5.1)\n",
      "Requirement already satisfied: charset_normalizer<4,>=2 in e:\\users\\hp\\anaconda3\\envs\\genaienv\\lib\\site-packages (from requests->-r requirements.txt (line 13)) (3.3.2)\n",
      "Requirement already satisfied: idna<4,>=2.5 in e:\\users\\hp\\anaconda3\\envs\\genaienv\\lib\\site-packages (from requests->-r requirements.txt (line 13)) (3.7)\n",
      "Requirement already satisfied: urllib3<3,>=1.21.1 in e:\\users\\hp\\anaconda3\\envs\\genaienv\\lib\\site-packages (from requests->-r requirements.txt (line 13)) (2.5.0)\n",
      "Requirement already satisfied: certifi>=2017.4.17 in e:\\users\\hp\\anaconda3\\envs\\genaienv\\lib\\site-packages (from requests->-r requirements.txt (line 13)) (2025.7.14)\n",
      "Requirement already satisfied: jinja2 in e:\\users\\hp\\anaconda3\\envs\\genaienv\\lib\\site-packages (from altair<6,>=4.0->streamlit->-r requirements.txt (line 2)) (3.1.6)\n",
      "Requirement already satisfied: jsonschema>=3.0 in e:\\users\\hp\\anaconda3\\envs\\genaienv\\lib\\site-packages (from altair<6,>=4.0->streamlit->-r requirements.txt (line 2)) (4.25.0)\n",
      "Requirement already satisfied: narwhals>=1.14.2 in e:\\users\\hp\\anaconda3\\envs\\genaienv\\lib\\site-packages (from altair<6,>=4.0->streamlit->-r requirements.txt (line 2)) (2.0.1)\n",
      "Requirement already satisfied: colorama in e:\\users\\hp\\anaconda3\\envs\\genaienv\\lib\\site-packages (from click<9,>=7.0->streamlit->-r requirements.txt (line 2)) (0.4.6)\n",
      "Requirement already satisfied: gitdb<5,>=4.0.1 in e:\\users\\hp\\anaconda3\\envs\\genaienv\\lib\\site-packages (from gitpython!=3.1.19,<4,>=3.0.7->streamlit->-r requirements.txt (line 2)) (4.0.12)\n",
      "Requirement already satisfied: smmap<6,>=3.0.1 in e:\\users\\hp\\anaconda3\\envs\\genaienv\\lib\\site-packages (from gitdb<5,>=4.0.1->gitpython!=3.1.19,<4,>=3.0.7->streamlit->-r requirements.txt (line 2)) (5.0.2)\n",
      "Requirement already satisfied: python-dateutil>=2.8.2 in e:\\users\\hp\\anaconda3\\envs\\genaienv\\lib\\site-packages (from pandas<3,>=1.4.0->streamlit->-r requirements.txt (line 2)) (2.9.0.post0)\n",
      "Requirement already satisfied: pytz>=2020.1 in e:\\users\\hp\\anaconda3\\envs\\genaienv\\lib\\site-packages (from pandas<3,>=1.4.0->streamlit->-r requirements.txt (line 2)) (2025.2)\n",
      "Requirement already satisfied: tzdata>=2022.7 in e:\\users\\hp\\anaconda3\\envs\\genaienv\\lib\\site-packages (from pandas<3,>=1.4.0->streamlit->-r requirements.txt (line 2)) (2025.2)\n",
      "Requirement already satisfied: langchain-core<1.0.0,>=0.3.72 in e:\\users\\hp\\anaconda3\\envs\\genaienv\\lib\\site-packages (from langchain->-r requirements.txt (line 5)) (0.3.72)\n",
      "Requirement already satisfied: langchain-text-splitters<1.0.0,>=0.3.9 in e:\\users\\hp\\anaconda3\\envs\\genaienv\\lib\\site-packages (from langchain->-r requirements.txt (line 5)) (0.3.9)\n",
      "Requirement already satisfied: langsmith>=0.1.17 in e:\\users\\hp\\anaconda3\\envs\\genaienv\\lib\\site-packages (from langchain->-r requirements.txt (line 5)) (0.4.11)\n",
      "Requirement already satisfied: pydantic<3.0.0,>=2.7.4 in e:\\users\\hp\\anaconda3\\envs\\genaienv\\lib\\site-packages (from langchain->-r requirements.txt (line 5)) (2.11.7)\n",
      "Requirement already satisfied: SQLAlchemy<3,>=1.4 in e:\\users\\hp\\anaconda3\\envs\\genaienv\\lib\\site-packages (from langchain->-r requirements.txt (line 5)) (2.0.42)\n",
      "Requirement already satisfied: PyYAML>=5.3 in e:\\users\\hp\\anaconda3\\envs\\genaienv\\lib\\site-packages (from langchain->-r requirements.txt (line 5)) (6.0.2)\n",
      "Requirement already satisfied: jsonpatch<2.0,>=1.33 in e:\\users\\hp\\anaconda3\\envs\\genaienv\\lib\\site-packages (from langchain-core<1.0.0,>=0.3.72->langchain->-r requirements.txt (line 5)) (1.33)\n",
      "Requirement already satisfied: jsonpointer>=1.9 in e:\\users\\hp\\anaconda3\\envs\\genaienv\\lib\\site-packages (from jsonpatch<2.0,>=1.33->langchain-core<1.0.0,>=0.3.72->langchain->-r requirements.txt (line 5)) (3.0.0)\n",
      "Requirement already satisfied: annotated-types>=0.6.0 in e:\\users\\hp\\anaconda3\\envs\\genaienv\\lib\\site-packages (from pydantic<3.0.0,>=2.7.4->langchain->-r requirements.txt (line 5)) (0.7.0)\n",
      "Requirement already satisfied: pydantic-core==2.33.2 in e:\\users\\hp\\anaconda3\\envs\\genaienv\\lib\\site-packages (from pydantic<3.0.0,>=2.7.4->langchain->-r requirements.txt (line 5)) (2.33.2)\n",
      "Requirement already satisfied: typing-inspection>=0.4.0 in e:\\users\\hp\\anaconda3\\envs\\genaienv\\lib\\site-packages (from pydantic<3.0.0,>=2.7.4->langchain->-r requirements.txt (line 5)) (0.4.1)\n",
      "Requirement already satisfied: greenlet>=1 in e:\\users\\hp\\anaconda3\\envs\\genaienv\\lib\\site-packages (from SQLAlchemy<3,>=1.4->langchain->-r requirements.txt (line 5)) (3.2.3)\n",
      "Requirement already satisfied: filelock in e:\\users\\hp\\anaconda3\\envs\\genaienv\\lib\\site-packages (from transformers->-r requirements.txt (line 6)) (3.18.0)\n",
      "Requirement already satisfied: huggingface-hub<1.0,>=0.34.0 in e:\\users\\hp\\anaconda3\\envs\\genaienv\\lib\\site-packages (from transformers->-r requirements.txt (line 6)) (0.34.3)\n",
      "Requirement already satisfied: regex!=2019.12.17 in e:\\users\\hp\\anaconda3\\envs\\genaienv\\lib\\site-packages (from transformers->-r requirements.txt (line 6)) (2025.7.34)\n",
      "Requirement already satisfied: tokenizers<0.22,>=0.21 in e:\\users\\hp\\anaconda3\\envs\\genaienv\\lib\\site-packages (from transformers->-r requirements.txt (line 6)) (0.21.4)\n",
      "Requirement already satisfied: safetensors>=0.4.3 in e:\\users\\hp\\anaconda3\\envs\\genaienv\\lib\\site-packages (from transformers->-r requirements.txt (line 6)) (0.5.3)\n",
      "Requirement already satisfied: tqdm>=4.27 in e:\\users\\hp\\anaconda3\\envs\\genaienv\\lib\\site-packages (from transformers->-r requirements.txt (line 6)) (4.67.1)\n",
      "Requirement already satisfied: fsspec>=2023.5.0 in e:\\users\\hp\\anaconda3\\envs\\genaienv\\lib\\site-packages (from huggingface-hub<1.0,>=0.34.0->transformers->-r requirements.txt (line 6)) (2025.7.0)\n",
      "Requirement already satisfied: scikit-learn in e:\\users\\hp\\anaconda3\\envs\\genaienv\\lib\\site-packages (from sentence-transformers->-r requirements.txt (line 7)) (1.7.1)\n",
      "Requirement already satisfied: scipy in e:\\users\\hp\\anaconda3\\envs\\genaienv\\lib\\site-packages (from sentence-transformers->-r requirements.txt (line 7)) (1.16.1)\n",
      "Requirement already satisfied: sympy>=1.13.3 in e:\\users\\hp\\anaconda3\\envs\\genaienv\\lib\\site-packages (from torch->-r requirements.txt (line 9)) (1.14.0)\n",
      "Requirement already satisfied: networkx in e:\\users\\hp\\anaconda3\\envs\\genaienv\\lib\\site-packages (from torch->-r requirements.txt (line 9)) (3.5)\n",
      "Requirement already satisfied: setuptools in e:\\users\\hp\\anaconda3\\envs\\genaienv\\lib\\site-packages (from torch->-r requirements.txt (line 9)) (78.1.1)\n",
      "Requirement already satisfied: soupsieve>1.2 in e:\\users\\hp\\anaconda3\\envs\\genaienv\\lib\\site-packages (from beautifulsoup4->-r requirements.txt (line 12)) (2.5)\n",
      "Requirement already satisfied: MarkupSafe>=2.0 in e:\\users\\hp\\anaconda3\\envs\\genaienv\\lib\\site-packages (from jinja2->altair<6,>=4.0->streamlit->-r requirements.txt (line 2)) (3.0.2)\n",
      "Requirement already satisfied: attrs>=22.2.0 in e:\\users\\hp\\anaconda3\\envs\\genaienv\\lib\\site-packages (from jsonschema>=3.0->altair<6,>=4.0->streamlit->-r requirements.txt (line 2)) (24.3.0)\n",
      "Requirement already satisfied: jsonschema-specifications>=2023.03.6 in e:\\users\\hp\\anaconda3\\envs\\genaienv\\lib\\site-packages (from jsonschema>=3.0->altair<6,>=4.0->streamlit->-r requirements.txt (line 2)) (2023.7.1)\n",
      "Requirement already satisfied: referencing>=0.28.4 in e:\\users\\hp\\anaconda3\\envs\\genaienv\\lib\\site-packages (from jsonschema>=3.0->altair<6,>=4.0->streamlit->-r requirements.txt (line 2)) (0.30.2)\n",
      "Requirement already satisfied: rpds-py>=0.7.1 in e:\\users\\hp\\anaconda3\\envs\\genaienv\\lib\\site-packages (from jsonschema>=3.0->altair<6,>=4.0->streamlit->-r requirements.txt (line 2)) (0.22.3)\n",
      "Requirement already satisfied: httpx<1,>=0.23.0 in e:\\users\\hp\\anaconda3\\envs\\genaienv\\lib\\site-packages (from langsmith>=0.1.17->langchain->-r requirements.txt (line 5)) (0.28.1)\n",
      "Requirement already satisfied: orjson>=3.9.14 in e:\\users\\hp\\anaconda3\\envs\\genaienv\\lib\\site-packages (from langsmith>=0.1.17->langchain->-r requirements.txt (line 5)) (3.11.1)\n",
      "Requirement already satisfied: requests-toolbelt>=1.0.0 in e:\\users\\hp\\anaconda3\\envs\\genaienv\\lib\\site-packages (from langsmith>=0.1.17->langchain->-r requirements.txt (line 5)) (1.0.0)\n",
      "Requirement already satisfied: zstandard>=0.23.0 in e:\\users\\hp\\anaconda3\\envs\\genaienv\\lib\\site-packages (from langsmith>=0.1.17->langchain->-r requirements.txt (line 5)) (0.23.0)\n",
      "Requirement already satisfied: anyio in e:\\users\\hp\\anaconda3\\envs\\genaienv\\lib\\site-packages (from httpx<1,>=0.23.0->langsmith>=0.1.17->langchain->-r requirements.txt (line 5)) (4.7.0)\n",
      "Requirement already satisfied: httpcore==1.* in e:\\users\\hp\\anaconda3\\envs\\genaienv\\lib\\site-packages (from httpx<1,>=0.23.0->langsmith>=0.1.17->langchain->-r requirements.txt (line 5)) (1.0.9)\n",
      "Requirement already satisfied: h11>=0.16 in e:\\users\\hp\\anaconda3\\envs\\genaienv\\lib\\site-packages (from httpcore==1.*->httpx<1,>=0.23.0->langsmith>=0.1.17->langchain->-r requirements.txt (line 5)) (0.16.0)\n",
      "Requirement already satisfied: six>=1.5 in e:\\users\\hp\\anaconda3\\envs\\genaienv\\lib\\site-packages (from python-dateutil>=2.8.2->pandas<3,>=1.4.0->streamlit->-r requirements.txt (line 2)) (1.17.0)\n",
      "Requirement already satisfied: mpmath<1.4,>=1.1.0 in e:\\users\\hp\\anaconda3\\envs\\genaienv\\lib\\site-packages (from sympy>=1.13.3->torch->-r requirements.txt (line 9)) (1.3.0)\n",
      "Requirement already satisfied: sniffio>=1.1 in e:\\users\\hp\\anaconda3\\envs\\genaienv\\lib\\site-packages (from anyio->httpx<1,>=0.23.0->langsmith>=0.1.17->langchain->-r requirements.txt (line 5)) (1.3.0)\n",
      "Requirement already satisfied: joblib>=1.2.0 in e:\\users\\hp\\anaconda3\\envs\\genaienv\\lib\\site-packages (from scikit-learn->sentence-transformers->-r requirements.txt (line 7)) (1.5.1)\n",
      "Requirement already satisfied: threadpoolctl>=3.1.0 in e:\\users\\hp\\anaconda3\\envs\\genaienv\\lib\\site-packages (from scikit-learn->sentence-transformers->-r requirements.txt (line 7)) (3.6.0)\n",
      "Note: you may need to restart the kernel to use updated packages.\n"
     ]
    }
   ],
   "source": [
    "%pip install -r requirements.txt"
   ]
  },
  {
   "cell_type": "code",
   "execution_count": null,
   "id": "b19e2c19-08a5-4cd9-8c21-33eb33d8fa54",
   "metadata": {
    "scrolled": true
   },
   "outputs": [],
   "source": [
    "!streamlit run app.py"
   ]
  },
  {
   "cell_type": "code",
   "execution_count": null,
   "id": "b54029eb-29d8-4283-9ec1-2181519ec017",
   "metadata": {},
   "outputs": [],
   "source": [
    "!pip install langchain-community"
   ]
  },
  {
   "cell_type": "code",
   "execution_count": null,
   "id": "7b4eb52e-66bb-45a1-a133-7eb91c44abe5",
   "metadata": {},
   "outputs": [],
   "source": []
  },
  {
   "cell_type": "code",
   "execution_count": null,
   "id": "89073e0f-2e56-4eae-90f9-20c1e953403c",
   "metadata": {},
   "outputs": [],
   "source": []
  },
  {
   "cell_type": "code",
   "execution_count": null,
   "id": "ba2f96e7-ba7f-47ac-a0c2-0f07a0292b2c",
   "metadata": {},
   "outputs": [],
   "source": []
  },
  {
   "cell_type": "code",
   "execution_count": null,
   "id": "58e2485d-5d83-46af-b79c-2cb6fa3154a2",
   "metadata": {},
   "outputs": [],
   "source": []
  },
  {
   "cell_type": "code",
   "execution_count": null,
   "id": "c33e98ab-10a6-4427-9688-78f31640b8f6",
   "metadata": {},
   "outputs": [],
   "source": []
  },
  {
   "cell_type": "code",
   "execution_count": null,
   "id": "cd8fec84-a9c4-4834-bcbe-8b2d1a672efb",
   "metadata": {},
   "outputs": [],
   "source": []
  }
 ],
 "metadata": {
  "kernelspec": {
   "display_name": "Python 3 (ipykernel)",
   "language": "python",
   "name": "python3"
  },
  "language_info": {
   "codemirror_mode": {
    "name": "ipython",
    "version": 3
   },
   "file_extension": ".py",
   "mimetype": "text/x-python",
   "name": "python",
   "nbconvert_exporter": "python",
   "pygments_lexer": "ipython3",
   "version": "3.13.5"
  }
 },
 "nbformat": 4,
 "nbformat_minor": 5
}
